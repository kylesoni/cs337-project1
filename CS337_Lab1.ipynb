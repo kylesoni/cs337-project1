{
 "cells": [
  {
   "cell_type": "code",
   "execution_count": 1,
   "id": "2a15b363",
   "metadata": {
    "scrolled": true
   },
   "outputs": [],
   "source": [
    "import pandas as pd\n",
    "import re"
   ]
  },
  {
   "cell_type": "code",
   "execution_count": 2,
   "id": "cf24d5db",
   "metadata": {
    "scrolled": true
   },
   "outputs": [
    {
     "name": "stderr",
     "output_type": "stream",
     "text": [
      "C:\\Users\\goldm\\AppData\\Local\\Temp\\ipykernel_19696\\3270336835.py:3: FutureWarning: The default value of regex will change from True to False in a future version.\n",
      "  clean_text = text.str.replace(r'[^a-zA-Z0-9 ]+', '').str.replace(r'\\s+', ' ').str.strip()\n"
     ]
    }
   ],
   "source": [
    "df = pd.read_json('data\\\\gg2013.json')\n",
    "text = df['text']\n",
    "clean_text = text.str.replace(r'[^a-zA-Z0-9 ]+', '').str.replace(r'\\s+', ' ').str.strip()\n"
   ]
  },
  {
   "cell_type": "code",
   "execution_count": 16,
   "id": "fa23cade",
   "metadata": {
    "scrolled": false
   },
   "outputs": [
    {
     "name": "stdout",
     "output_type": "stream",
     "text": [
      "3490      RT @yeahitsaline_: And the Golden Globes to \"B...\n",
      "7462      And #GoldenGlobes goes tooooooooo... Oğlum kar...\n",
      "9194      Biggest zinger so far at the #GoldenGlobes goe...\n",
      "9815      First zinger goes to Kahryn Bigelow LOL #Golde...\n",
      "11798     #Thatawkwardmoment when the camera goes to Mel...\n",
      "                                ...                        \n",
      "173884    RT @CNNshowbiz: Best motion picture drama goes...\n",
      "174085    RT @notjjones: And the Golden Globe for impers...\n",
      "174131    RT @JessWeiner: Weirdest inside joke about Ham...\n",
      "174364    RT @SeinfeldToday: The gang goes to Tim Whatle...\n",
      "174443    RT @Zap2it: The award goes to \"Amour,\" which a...\n",
      "Name: text, Length: 1384, dtype: object\n"
     ]
    }
   ],
   "source": [
    "pattern = 'goes to'\n",
    "x = df.text[df.text.str.contains(pattern)]\n",
    "print(x)"
   ]
  },
  {
   "cell_type": "code",
   "execution_count": 4,
   "id": "2e2d039e",
   "metadata": {
    "scrolled": true
   },
   "outputs": [
    {
     "name": "stdout",
     "output_type": "stream",
     "text": [
      "24881     Best Actress in a Mini Series or TV Movie goes...\n",
      "24899     Best Actress in a Mini-Series or TV Movie - JU...\n",
      "24908            Best Actress TV Julian Moore #GoldenGlobes\n",
      "24929     Best Actress in TV Film or Miniseries Winner i...\n",
      "24951     Best Actress in a mini-series or TV Movie: Jul...\n",
      "                                ...                        \n",
      "151460    Best Actress in a Motion Picture Drama goes to...\n",
      "151715    Best Actress Motion Picture Drama goes to Jess...\n",
      "152022    Best Actress in Motion Picture Drama, and the ...\n",
      "155557    Best Actress is a toss-up: Lawrence or Chastai...\n",
      "169752    Best Actress in a Motion Picture - Drama: Jess...\n",
      "Name: text, Length: 86, dtype: object\n"
     ]
    }
   ],
   "source": [
    "pattern_actress = 'Best Actress'\n",
    "print(df.text[df.text.str.match(pattern_actress)])"
   ]
  },
  {
   "cell_type": "code",
   "execution_count": 5,
   "id": "757047db",
   "metadata": {
    "scrolled": true
   },
   "outputs": [
    {
     "name": "stdout",
     "output_type": "stream",
     "text": [
      "26299    Moore and Fey need to come out and do a bit to...\n",
      "Name: text, dtype: object\n"
     ]
    }
   ],
   "source": [
    "pattern_winner = 'Moore'\n",
    "print(df.text[df.text.str.match(pattern_winner)])"
   ]
  },
  {
   "cell_type": "code",
   "execution_count": 6,
   "id": "5ae66445",
   "metadata": {},
   "outputs": [
    {
     "name": "stdout",
     "output_type": "stream",
     "text": [
      "Best Actress in a Mini Series or TV Movie goes to Julianne Moore! #GoldenGlobes\n"
     ]
    }
   ],
   "source": [
    "print(df.text[24881])"
   ]
  },
  {
   "cell_type": "code",
   "execution_count": null,
   "id": "5627a1d0",
   "metadata": {},
   "outputs": [],
   "source": []
  }
 ],
 "metadata": {
  "kernelspec": {
   "display_name": "Python 3 (ipykernel)",
   "language": "python",
   "name": "python3"
  },
  "language_info": {
   "codemirror_mode": {
    "name": "ipython",
    "version": 3
   },
   "file_extension": ".py",
   "mimetype": "text/x-python",
   "name": "python",
   "nbconvert_exporter": "python",
   "pygments_lexer": "ipython3",
   "version": "3.8.16"
  }
 },
 "nbformat": 4,
 "nbformat_minor": 5
}
